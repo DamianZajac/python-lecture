{
 "metadata": {
  "name": "",
  "signature": "sha256:e40e345362968efbe6c899bda71ada7c61ebc0a04f980980150f9ae97980cda9"
 },
 "nbformat": 3,
 "nbformat_minor": 0,
 "worksheets": [
  {
   "cells": [
    {
     "cell_type": "heading",
     "level": 2,
     "metadata": {},
     "source": [
      "Sieci Neuronowe - Laboratorium 2. Klasyfikacja liniowa"
     ]
    },
    {
     "cell_type": "code",
     "collapsed": false,
     "input": [
      "%matplotlib inline\n",
      "\n",
      "from matplotlib import pyplot as plt\n",
      "import numpy as np\n",
      "from sklearn.datasets import make_classification\n",
      "\n",
      "X, _ = make_classification(n_samples=100, n_features=2, n_redundant=0, n_clusters_per_class=1)\n",
      "w = np.random.normal(size=(1,2))\n",
      "y = np.sign(w.dot(X.T)).ravel()\n",
      " \n",
      "plt.figure()\n",
      "plt.scatter(X[:,0], X[:,1], c=y, linewidth=0, s=100, alpha=0.8)\n",
      "plt.show()\n",
      "\n",
      "print 'optimal separator w=', w"
     ],
     "language": "python",
     "metadata": {},
     "outputs": []
    },
    {
     "cell_type": "heading",
     "level": 2,
     "metadata": {},
     "source": [
      "Random Learner"
     ]
    },
    {
     "cell_type": "markdown",
     "metadata": {},
     "source": [
      "Zaimplementuj klas\u0119 `RandomLearner`, kt\u00f3ra b\u0119dzie reprezentowa\u0107 liniowy klasyfikator poszukuj\u0105cy losowo modelu maksymalizuj\u0105cego Accuracy."
     ]
    },
    {
     "cell_type": "code",
     "collapsed": false,
     "input": [
      "class RandomLearner():\n",
      "    \n",
      "    def __init__(self, T=1000):\n",
      "        pass\n",
      "    \n",
      "    def fit(self, X, y):\n",
      "        pass\n",
      "    \n",
      "    def predict(self, X):\n",
      "        pass\n",
      "    "
     ],
     "language": "python",
     "metadata": {},
     "outputs": []
    },
    {
     "cell_type": "code",
     "collapsed": false,
     "input": [
      "for T in [1, 5, 10, 100, 1000]:\n",
      "    print 'Iterations', T\n",
      "    clf = RandomLearner(T=T)\n",
      "    clf.fit(X, y)\n",
      "    pred = clf.predict(X)\n",
      "\n",
      "    plt.figure()\n",
      "    plt.title(str(T))\n",
      "    plt.scatter(X[:,0], X[:,1], c=pred, linewidth=0, s=100, alpha=0.8)\n",
      "    plt.show()\n",
      "\n",
      "    print 'Accuracy', 100. * sum(pred == y) /float(len(y)), '%'\n",
      "    print 'Solution', clf.w"
     ],
     "language": "python",
     "metadata": {},
     "outputs": []
    },
    {
     "cell_type": "heading",
     "level": 2,
     "metadata": {},
     "source": [
      "Brute learner"
     ]
    },
    {
     "cell_type": "markdown",
     "metadata": {},
     "source": [
      "Zaimplementuj klas\u0119 BruteLearner, kt\u00f3ra b\u0119dzie reprezentowa\u0107 liniowy klasyfikator poszukuj\u0105cy modelu maksymalizuj\u0105cego Accuracy metod\u0105 brute force. Podczas nauki zapisz ca\u0142\u0105 histori\u0119 uzyskiwanych wynik\u00f3w tak, \u017ceby\u015bmy mogli obejrze\u0107 wykres zale\u017cno\u015bci numeru iteracji od uzyskanego wyniku. Narysuj go."
     ]
    },
    {
     "cell_type": "code",
     "collapsed": false,
     "input": [
      "from itertools import product\n",
      "\n",
      "class BruteLearner():\n",
      "    \n",
      "    def __init__(self, T=1000):\n",
      "        pass\n",
      "    \n",
      "    def fit(self, X, y):\n",
      "        pass\n",
      "    \n",
      "    def predict(self, X):\n",
      "        pass"
     ],
     "language": "python",
     "metadata": {},
     "outputs": []
    },
    {
     "cell_type": "code",
     "collapsed": false,
     "input": [
      "for T in [1, 5, 10, 100, 1000]:\n",
      "    print 'Iterations', T\n",
      "\n",
      "    clf = BruteLearner(T=T)\n",
      "    clf.fit(X, y)\n",
      "    pred = clf.predict(X)\n",
      "\n",
      "    plt.figure()\n",
      "    plt.scatter(X[:,0], X[:,1], c=pred, linewidth=0, s=100, alpha=0.8)\n",
      "    plt.show()\n",
      "\n",
      "    print 'Accuracy', 100. * sum(pred == y) /float(len(y)), '%'\n",
      "    print 'Solution', clf.w\n",
      "\n",
      "    data = np.array(clf.history)\n",
      "\n",
      "    plt.figure()\n",
      "    plt.plot(range(len(data)), data[:,1])\n",
      "    plt.xlabel('iteration')\n",
      "    plt.ylabel('correct classifications')\n",
      "    plt.show()"
     ],
     "language": "python",
     "metadata": {},
     "outputs": []
    },
    {
     "cell_type": "markdown",
     "metadata": {},
     "source": [
      "Co si\u0119 stanie, je\u015bli problem nie b\u0119dzie liniowo separowalny? Pomieszajmy etykiety i sprawd\u017amy jak teraz wygl\u0105da proces uczenia."
     ]
    },
    {
     "cell_type": "code",
     "collapsed": false,
     "input": [
      "r = [np.random.choice([-1,1]) for _ in range(len(X))]\n",
      "\n",
      "clf = BruteLearner(T=1000)\n",
      "clf.fit(X, r)\n",
      "pred = clf.predict(X)\n",
      "\n",
      "plt.figure()\n",
      "plt.scatter(X[:,0], X[:,1], c=r, linewidth=0, s=100, alpha=0.8)\n",
      "plt.show()\n",
      "\n",
      "print 'Accuracy', 100. * sum(pred == r) /float(len(r)), '%'\n",
      "print 'Solution', clf.w\n",
      "\n",
      "data = np.array(clf.history)\n",
      "\n",
      "plt.figure()\n",
      "plt.plot(range(len(data)), data[:,1])\n",
      "plt.xlabel('iteration')\n",
      "plt.ylabel('correct classifications')\n",
      "plt.show()"
     ],
     "language": "python",
     "metadata": {},
     "outputs": []
    },
    {
     "cell_type": "heading",
     "level": 3,
     "metadata": {},
     "source": [
      "Co to m\u00f3wi o uczeniu? Czy mo\u017ce istnie\u0107 metoda kt\u00f3ra efektywnie optymalizuje tak\u0105 funkcj\u0119? Dlaczego?"
     ]
    },
    {
     "cell_type": "code",
     "collapsed": false,
     "input": [
      "from sklearn.datasets import load_svmlight_file\n",
      "X, y = load_svmlight_file('fourclass')\n",
      "X = X.toarray()\n",
      "a = min(y)\n",
      "b = max(y)\n",
      "y = [1 if _y == a else -1 for _y in y]\n",
      "\n",
      "\n",
      "plt.figure()\n",
      "plt.title('DATA')\n",
      "plt.scatter(X[:,0], X[:,1], c=y, linewidth=0, s=100, alpha=0.8)\n",
      "plt.show()\n",
      "\n",
      "    \n",
      "from sklearn.linear_model import Perceptron\n",
      "models = [Perceptron(n_iter=100, fit_intercept=False), RandomLearner(T=100), BruteLearner(T=100)]\n",
      "for model in models:\n",
      "    \n",
      "    model.fit(X, y)\n",
      "    pred = model.predict(X)\n",
      "    plt.figure()\n",
      "    plt.title(model.__class__.__name__ + ' acc ' + str(sum(pred == y)/float(len(y))))\n",
      "    plt.scatter(X[:,0], X[:,1], c=pred, linewidth=0, s=100, alpha=0.8)\n",
      "    plt.show()"
     ],
     "language": "python",
     "metadata": {},
     "outputs": []
    },
    {
     "cell_type": "heading",
     "level": 3,
     "metadata": {},
     "source": [
      "Pobierz zbi\u00f3r `splice`"
     ]
    },
    {
     "cell_type": "code",
     "collapsed": false,
     "input": [
      "from sklearn.datasets import load_svmlight_file\n",
      "X, y = load_svmlight_file('splice')\n",
      "X = X.toarray()\n",
      "a = min(y)\n",
      "b = max(y)\n",
      "y = [1 if _y == a else -1 for _y in y]\n",
      "\n",
      "\n",
      "plt.figure()\n",
      "plt.title('DATA')\n",
      "plt.scatter(X[:,0], X[:,1], c=y, linewidth=0, s=100, alpha=0.8)\n",
      "plt.show()\n",
      "\n",
      "    \n",
      "from sklearn.linear_model import Perceptron\n",
      "models = [Perceptron(n_iter=1000, fit_intercept=False), RandomLearner(T=1000)]#, BruteLearner(T=100)]\n",
      "for model in models:\n",
      "    \n",
      "    model.fit(X, y)\n",
      "    pred = model.predict(X)\n",
      "    plt.figure()\n",
      "    plt.title(model.__class__.__name__ + ' acc ' + str(sum(pred == y)/float(len(y))))\n",
      "    plt.scatter(X[:,0], X[:,1], c=pred, linewidth=0, s=100, alpha=0.8)\n",
      "    plt.show()"
     ],
     "language": "python",
     "metadata": {},
     "outputs": []
    },
    {
     "cell_type": "heading",
     "level": 3,
     "metadata": {},
     "source": [
      "Czasami `RandomLearner` wygrywa, dlaczego? Czy to faktycznie jest czasem LEPSZY model? "
     ]
    },
    {
     "cell_type": "heading",
     "level": 3,
     "metadata": {},
     "source": [
      "Jak mo\u017cna zdefiniowa\u0107 cel?"
     ]
    },
    {
     "cell_type": "markdown",
     "metadata": {},
     "source": [
      "Szukamy funkcji `F(w; X,y)` takiej, \u017ce:\n",
      "* Jest funkcj\u0105 zwracaj\u0105c\u0105 nieujemne warto\u015bci\n",
      "* `F(w; X,y) = 0` wtw gdy dla ka\u017cdego `(x_i, y_i)` mamy `sign(<w, x_i>) == y_i`\n",
      "* jest \u0142atwo optymalizowaln\u0105 funkcj\u0105 ze wzgl\u0119du na `w`\n",
      "* Intuicyjnie powinna by\u0107 jako\u015b zwi\u0105zana z accuracy, czyli `Acc(w; X,y) = |{(x_i,y_i) : sign(<w, x_i>) == y_i}|`"
     ]
    },
    {
     "cell_type": "markdown",
     "metadata": {},
     "source": [
      "### Zadanie dodatkowe\n",
      "\n",
      "Zaimplementuj model wg. znalezionej funkcji"
     ]
    }
   ],
   "metadata": {}
  }
 ]
}