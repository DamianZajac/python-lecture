from __future__ import division
from sklearn.datasets import load_svmlight_file
import sys
from sklearn.linear_model import Perceptron
import matplotlib

matplotlib.use('Agg')

for f in sys.argv[1:]:

    X,y = load_svmlight_file(f)
    X = X.toarray()

    from matplotlib import pyplot as plt
    plt.figure()
    plt.scatter(X[:,0], X[:,1], c=y, linewidth=0, s=100, alpha=0.8)
    plt.savefig(f+'0.png')


    clf = Perceptron()
    clf.fit(X, y)
    preds = clf.predict(X)

    plt.figure()
    plt.scatter(X[:,0], X[:,1], c=preds, linewidth=0, s=100, alpha=0.8)
    plt.savefig(f+'1.png')

    from sklearn.decomposition import PCA

    pca = PCA(n_components=2)
    pca.fit(X)
    X=pca.transform(X)

    plt.figure()
    plt.scatter(X[:,0], X[:,1], c=y, linewidth=0, s=100, alpha=0.8)
    plt.savefig(f+'2.png')

    plt.figure()
    plt.scatter(X[:,0], X[:,1], c=preds, linewidth=0, s=100, alpha=0.8)
    plt.savefig(f+'3.png')


