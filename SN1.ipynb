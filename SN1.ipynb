{
 "metadata": {
  "name": "",
  "signature": "sha256:5faba4b03adb481f0f6eb8485faa099302dc56738d3bfe6ed15de5f3fd303d53"
 },
 "nbformat": 3,
 "nbformat_minor": 0,
 "worksheets": [
  {
   "cells": [
    {
     "cell_type": "heading",
     "level": 1,
     "metadata": {},
     "source": [
      "Sieci Neuronowe - Laboratorium 1. Zaj\u0119cia organizacyjne i python"
     ]
    },
    {
     "cell_type": "markdown",
     "metadata": {},
     "source": [
      "# Zasady zaliczenia \n",
      "\n",
      "1. Obecno\u015b\u0107 na \u0107wiczeniach jest obowi\u0105zkowa\n",
      "2. Na ocen\u0119 ko\u0144cow\u0105 sk\u0142adaj\u0105 si\u0119:\n",
      " * aktywno\u015b\u0107 na zaj\u0119ciach (10%)\n",
      " * 3 mini projekty (60%)\n",
      " * projekt ko\u0144cowy (30%)\n",
      "3. Materia\u0142y udost\u0119pniane s\u0105 online na githubie grupy GMUM\n",
      "4. B\u0119dziemy bazowa\u0107 na **realnych danych**, cz\u0119\u015b\u0107 metod b\u0119dziemy implementowa\u0107 sami, reszt\u0119 bra\u0107 z bibliotek"
     ]
    },
    {
     "cell_type": "markdown",
     "metadata": {},
     "source": [
      "# Zadania\n",
      "\n",
      "## Przygotowanie\n",
      "\n",
      "1. Uruchom **Anacond\u0119** (powinna by\u0107 dost\u0119pna)\n",
      "2. Je\u015bli nie mia\u0142e\u015b(a\u015b) dot\u0105d do czynienia z pythonem przejd\u017a dzi\u015b\u00a0podstawowy tutorial http://learnpython.org\n",
      "3. W przeciwnym przypadku odwied\u017a stron\u0119 http://scikit-learn.org, to b\u0119dzie nasza podstawowa biblioteka\n",
      "\n",
      "## W\u0142a\u015bciwe zadania\n",
      "\n",
      "**Spr\u00f3buj wykona\u0107 je samodzielnie, gdy zostanie 30 minut do ko\u0144ca zaj\u0119\u0107, wykonamy je wsp\u00f3lnie i przedyskutujemy**\n",
      "\n",
      "1. Znajd\u017a w sieci zbiory danych biblioteki *libsvm*\n",
      "2. Pobierz dwa zbiory danych:\n",
      " * fourclass_scale\n",
      " * breast-cancer_scale\n",
      "3. Napisz program kt\u00f3ry:\n",
      "  1. wczyta zbiory danych podane przez argumenty pozycyjne\n",
      "  2. narysuje je na p\u0142aszczy\u017anie wraz z etykietami [kolorami]\n",
      "  3. nauczy prosty perceptron na tych danych\n",
      "  4. pokoloruje punkty wg. przewidywa\u0144 perceptronu\n",
      " "
     ]
    },
    {
     "cell_type": "raw",
     "metadata": {},
     "source": [
      "python lab1.py fourclass_scale breast-cancer_scale"
     ]
    },
    {
     "cell_type": "markdown",
     "metadata": {},
     "source": [
      "## Przydatne metody i funkcje\n",
      "\n",
      "0. `sys.argv` z biblioteki systemowej `sys`\n",
      "1. `load_svmlight_file` http://scikit-learn.org/stable/datasets/\n",
      "2. matplotplib's scatter (sp\u00f3jrz na przyk\u0142ad kom\u00f3rk\u0119 ni\u017cej)  http://matplotlib.org/api/pyplot_api.html#matplotlib.pyplot.scatter\n",
      "3. `Perceptron` http://scikit-learn.org/stable/modules/generated/sklearn.linear_model.Perceptron.html#sklearn.linear_model.Perceptron\n",
      "  1. metoda `fit(X,y)`\n",
      "  2. metoda `predict(X)`"
     ]
    },
    {
     "cell_type": "code",
     "collapsed": false,
     "input": [
      "%matplotlib inline\n",
      "\n",
      "from matplotlib import pyplot as plt\n",
      "import numpy as np\n",
      "\n",
      "X = np.array([[1,2],[2,3],[3,4],[1.2,0.9]])\n",
      "y = np.array([1,2,2,1])\n",
      " \n",
      "plt.figure()\n",
      "plt.scatter(X[:,0], X[:,1], c=y, linewidth=0, s=100, alpha=0.8)\n",
      "plt.show()"
     ],
     "language": "python",
     "metadata": {},
     "outputs": [
      {
       "metadata": {},
       "output_type": "display_data",
       "png": "[encoded data removed]",
       "text": [
        "<matplotlib.figure.Figure at 0x2347b90>"
       ]
      }
     ],
     "prompt_number": 2
    },
    {
     "cell_type": "markdown",
     "metadata": {},
     "source": [
      "## Co dalej?\n",
      "\n",
      "1. Czy oba zbiory zosta\u0142y \u0142adnie narysowane? Na czym polega problem z `breast-cancer_scale`?\n",
      "2. Wykorzystaj bibliotek\u0119\u00a0`scikit-learn` a konkretnie modu\u0142 `PCA` ( http://scikit-learn.org/stable/modules/generated/sklearn.decomposition.PCA.html ) aby narysowa\u0107 zbi\u00f3r `breast-cancer_scale` w dw\u00f3ch wymiarach. Przyjrzyj si\u0119 przyk\u0142adowi (Example), nie potrzebujesz nic wi\u0119cej poza nim i metod\u0105 `transform`\n",
      "3. Jak dok\u0142adny jest nasz perceptron? Tzn. jaki odesetek przyk\u0142ad\u00f3w poetykietowa\u0142 poprawnie? Co to w zasadzie oznacza?"
     ]
    },
    {
     "cell_type": "markdown",
     "metadata": {},
     "source": [
      "## Jak to powinno wygl\u0105da\u0107?\n",
      "\n",
      "1. Fourclass, narysowany zgodnie z etykietami\n",
      "![fourclass](https://picoolio.net/images/2015/02/23/fourclass_scale.txt02f80d.png)\n",
      "\n",
      "2. Fourclass, narysowany zgodnie z predykcjami perceptronu\n",
      "![fourclasspred](https://picoolio.net/images/2015/02/23/fourclass_scale.txt1547e1.png)\n",
      "\n",
      "3. Breast cancer, narysowany zgodnie z etykietami\n",
      "![breast](https://picoolio.net/images/2015/02/23/breast-cancer_scale.txt081b17.png)\n",
      "\n",
      "4. Breast cancer, narysowany zgodnie z predykcjami perceptronu\n",
      "![breastpred](https://picoolio.net/images/2015/02/23/breast-cancer_scale.txt193420.png)\n",
      "\n",
      "5. Breast cancer + PCA, narysowany zgodnie z etykietami\n",
      "![breastpca](https://picoolio.net/images/2015/02/23/breast-cancer_scale.txt21c33a.png)\n",
      "\n",
      "6. Breast cancer + PCA, narysowany zgodnie z predykcjami perceptronu\n",
      "![breastpcapred](https://picoolio.net/images/2015/02/23/breast-cancer_scale.txt3ea1cc.png)\n",
      "\n"
     ]
    },
    {
     "cell_type": "code",
     "collapsed": false,
     "input": [],
     "language": "python",
     "metadata": {},
     "outputs": []
    }
   ],
   "metadata": {}
  }
 ]
}