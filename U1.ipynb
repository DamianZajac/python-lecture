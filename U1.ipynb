{
 "metadata": {
  "name": "",
  "signature": "sha256:05d5916309defd073b55bd826fba61e2ec7e3ff63aba6c56e1dab8880e39f73b"
 },
 "nbformat": 3,
 "nbformat_minor": 0,
 "worksheets": [
  {
   "cells": [
    {
     "cell_type": "heading",
     "level": 1,
     "metadata": {},
     "source": [
      "J\u0119zyk Python - Laboratorium 1."
     ]
    },
    {
     "cell_type": "markdown",
     "metadata": {},
     "source": [
      "## Podstawowe cele tego przedmiotu s\u0105 dwa:\n",
      "\n",
      "* Nauczenia Pa\u0144stwa istotnych element\u00f3w j\u0119zyka Python, zar\u00f3wno podstaw, mechanizm\u00f3w, jak i praktycznych sztuczek i modu\u0142\u00f3w\n",
      "* Sprawienie, \u017ce b\u0119d\u0105 Pa\u0144stwo [du\u017co] programowa\u0107. Nie ma \u017cadnej innej metody nauczenia si\u0119 j\u0119zyka programowania ni\u017c po prostu korzystanie z niego. Ci\u0105g\u0142e korzystanie. \n",
      "\n",
      "## Zasady zaliczenia\n",
      "\n",
      "* Obecno\u015b\u0107 jest obowi\u0105zkowa [!]\n",
      "* Nie ma egzaminu\n",
      "* G\u0142\u00f3wn\u0105 sk\u0142adow\u0105 oceny jest projekt zaliczeniowy [50%] \n",
      "* Pozosta\u0142a cz\u0119\u015b\u0107 oceny to ocena aktywno\u015bci wg. \u0107wiczeniowca [20%]\n",
      "* ...oraz zaanga\u017cowanie w spo\u0142eczno\u015b\u0107 pythona [30%]\n",
      "\n",
      "### Na czym polega\u0107 ma projekt zaliczeniowy?\n",
      "Projekt zaliczeniowy powinien by\u0107 realizacj\u0105 jednego z temat\u00f3w, kt\u00f3re zostan\u0105 przedstawione w marcu. Projekty b\u0119d\u0105 jedno- lub dwu-osobowe (oczywi\u015bcie wtedy b\u0119d\u0105 wi\u0119ksze). Nie ma tu mo\u017cliwo\u015bci oddania projektu z innego przedmiotu, kluczow\u0105 cech\u0105 tego projektu ma by\u0107, by Pa\u0144stwo sp\u0119dzili po prostu czas z j\u0119zykiem, poznaj\u0105c go lepiej, obcuj\u0105c z nim. To najlepsza droga do jego zrozumienia. Projekt nie ma by\u0107 celem samym w sobie - to droga do niego jest kluczowa.\n",
      "Oceniane przez wyk\u0142adowc\u0119.\n",
      "\n",
      "\n",
      "### Co to jest \u201caktywno\u015b\u0107\u201d?\n",
      "Aktywne uczestnictwo w laboratoriach [subiektywna ocena \u0107wiczeniowca], m.in. rozwi\u0105zywanie zada\u0144 podanych podczas zaj\u0119\u0107, udzia\u0142 w nich poprzez zadawanie pyta\u0144, prowadzenie merytorycznej dyskusji. Dodatkowo pojawi si\u0119 jeden mini projekt w czasie semestru (mniej wi\u0119cej w po\u0142owie). \n",
      "Oceniane przez \u0107wiczeniowca.\n",
      "\n",
      "\n",
      "### Na czym polega zaanga\u017cowanie w spo\u0142eczno\u015b\u0107, o co tu chodzi?\n",
      "Jedn\u0105 z najwi\u0119kszych si\u0142 pythona jest aktywna spo\u0142eczno\u015b\u0107 sympatyk\u00f3w/u\u017cytkownik\u00f3w. S\u0105 dwie podstawowe metody zaanga\u017cowania, kt\u00f3re gwarantuj\u0105 otrzymanie kompletu punkt\u00f3w za t\u0119 cz\u0119\u015b\u0107:\n",
      "* aktywne uczestnictwo w sieci stackoverflow.com - oczekuj\u0119 udzielenia 10 rozs\u0105dnych odpowiedzi na pytania z flag\u0105 [python] (jest ok. 70,000 pyta\u0144 bez zaakceptowanej odpowiedzi)\n",
      "* zaanga\u017cowanie si\u0119 w dowolny open sourcowy projekt pythonowy na github.com i zg\u0142oszenie dw\u00f3ch istotnych poprawek [rozwi\u0105za\u0144 istniej\u0105cych issues/features requests]\n",
      "Oceniane przez wyk\u0142adowc\u0119.\n",
      "\n",
      "\n",
      "### Ocena z przedmiotu to klasyczne progi punktowe:\n",
      "* 90-100%\tbdb\n",
      "* 80-90 %\tdb+\n",
      "* 70-80 %\tdb\n",
      "* 60-70 %\tdst +\n",
      "* 50-60 %\tdst\n",
      "* 0-50\t%\tndst\n"
     ]
    },
    {
     "cell_type": "markdown",
     "metadata": {},
     "source": [
      "## ZADANIA\n",
      "\n",
      " 1. Uruchomi\u0107 *ipython notebook*. **Gratulacje! :-)**\n",
      " 2. Napisa\u0107 podstawowy program w pythonie, [Hello world](http://pl.wikipedia.org/wiki/Hello_world), i uruchomi\u0107 go:\n",
      "   * z linii polece\u0144 *python hello.py*\n",
      "   * z interaktywnego interpretera pythona\n",
      "   * wewn\u0105trz notebooka\n",
      " 3. W ka\u017cdym z poni\u017cszych program\u00f3w znajduje si\u0119 b\u0142\u0105d w **dok\u0142adnie jednej** linijce, znajd\u017a go i popraw.\n",
      "   * Nie mo\u017cna dodawa\u0107 \u017cadnych nowych linii\n",
      "   * Nale\u017cy wybra\u0107 **dok\u0142adnie jedn\u0105 lini\u0119** i zmodyfikowa\u0107 w niej dowolnie wiele znak\u00f3w\n",
      "   * Ka\u017cde zadanie wymaga **jedynie wiedzy z pierwszego wyk\u0142adu**, nie trzeba zna\u0107 \u017cadnych dodatkowych funkcji (chyba, \u017ce s\u0105 ju\u017c u\u017cyte w dostarczonym snippecie)\n",
      "\n"
     ]
    },
    {
     "cell_type": "code",
     "collapsed": false,
     "input": [
      "def sum_of_cubes(n): \n",
      "    \"\"\" Funkcja powinna zwr\u00f3ci\u0107 sum\u0119 sze\u015bcian\u00f3w liczb od 1 do n w\u0142\u0105cznie \"\"\"\n",
      "    i = 0\n",
      "    for i in range(1, n+1):\n",
      "        result += i**3\n",
      "    return result\n",
      "\n",
      "print sum_of_cubes(1) == 1\n",
      "print sum_of_cubes(3) == 36"
     ],
     "language": "python",
     "metadata": {},
     "outputs": []
    },
    {
     "cell_type": "code",
     "collapsed": false,
     "input": [
      "def how_many_digits(n):\n",
      "    \"\"\" Zwraca liczb\u0119 cyfr liczby n \"\"\"\n",
      "    if n==0:\n",
      "        return 1\n",
      "    digits = 0\n",
      "    while n > 0:\n",
      "        n %= 10\n",
      "        digits += 1\n",
      "    return digits\n",
      "\n",
      "print how_many_digits(0) == 1\n",
      "print how_many_digits(10) == 2\n",
      "print how_many_digits(1234567890) == 10"
     ],
     "language": "python",
     "metadata": {},
     "outputs": []
    },
    {
     "cell_type": "code",
     "collapsed": false,
     "input": [
      "def is_palindrome(word):\n",
      "    \"\"\" Funkcja sprawdza czy *word* jest palindromem \"\"\"\n",
      "    n = len(word)\n",
      "    for i, letter in enumerate(word):\n",
      "        if letter != word[i]:\n",
      "            return False\n",
      "    return True\n",
      "\n",
      "print is_palindrome('ala') == True\n",
      "print is_palindrome('ananas') == False\n",
      "print is_palindrome('ananasa') == False\n",
      "print is_palindrome('tomek') == False"
     ],
     "language": "python",
     "metadata": {},
     "outputs": []
    },
    {
     "cell_type": "code",
     "collapsed": false,
     "input": [
      "def how_many_different_letters(word):\n",
      "    \"\"\" Zwraca liczb\u0119 unikalnych znak\u00f3w w s\u0142owie, mo\u017cemy za\u0142o\u017cy\u0107, \u017ce s\u0142owo sk\u0142ada si\u0119 z ma\u0142ych liter alfabetu angielskiego \"\"\"\n",
      "    letters = 0\n",
      "    for letter in word:\n",
      "        letters += 1\n",
      "    return letters\n",
      "\n",
      "print how_many_different_letters('tomek') == 5\n",
      "print how_many_different_letters('ala') == 2\n",
      "print how_many_different_letters('ananas') == 3\n",
      "print how_many_different_letters('jola') == 4"
     ],
     "language": "python",
     "metadata": {},
     "outputs": []
    },
    {
     "cell_type": "code",
     "collapsed": false,
     "input": [
      "def rot13(word):\n",
      "    \"\"\" Implementacja znanego szyfru ROT13 (http://pl.wikipedia.org/wiki/ROT13) dla s\u0142\u00f3w z ma\u0142ych liter alfabetu angielskiego \"\"\"\n",
      "    rotated = ''\n",
      "    a = ord('a') # Zwraca kod znaku, funkcj\u0105 odwrotn\u0105 jest chr(int)\n",
      "    z = ord('z')\n",
      "    for letter in word:\n",
      "        rotated += chr(a+(ord(letter)+13-a) % z)\n",
      "    return rotated\n",
      "\n",
      "print rot13('ala') == 'nyn'\n",
      "print rot13('ananas') == 'nbnbng'\n",
      "print rot13('tomek') == 'hcarx'\n",
      "print rot13('abcdefghijklmnoprstuwxyz') == 'nopqrstuvwxyabcdfghiklmn'"
     ],
     "language": "python",
     "metadata": {},
     "outputs": []
    },
    {
     "cell_type": "code",
     "collapsed": false,
     "input": [
      "def find_a_word_in_sentence(word, sentence):\n",
      "    \"\"\" Sprawdza czy s\u0142owo wystepuje w zdaniu \"\"\"\n",
      "    return word in sentence\n",
      "\n",
      "print find_a_word_in_sentence('ala', 'ala ma kota') == True\n",
      "print find_a_word_in_sentence('al', 'ala ma kota') == False\n",
      "print find_a_word_in_sentence('ma k', 'ala ma kota') == False\n",
      "print find_a_word_in_sentence('ma', 'ala ma kota') == True"
     ],
     "language": "python",
     "metadata": {},
     "outputs": []
    },
    {
     "cell_type": "markdown",
     "metadata": {},
     "source": [
      "\n",
      "**[Mo\u017cna za nie dosta\u0107 punkty z aktywno\u015bci]** Napisz definicj\u0119 funkcji *HowManyIntegers(N)*, kt\u00f3ra zwr\u00f3ci jak wiele liczb z zakresu [1,N) sk\u0142ada si\u0119 wy\u0142\u0105cznie z cyfr {0,2,7,9}. Czyli np.\n",
      " \n",
      "    HowManyIntegers(1) = 0\n",
      "    HowManyIntegers(10) = 3 # 2,7,9\n",
      "    HowManyIntegers(28) = 6 # 2,7,9,20,22,27\n",
      "    \n",
      "Twoje rozwi\u0105zanie powinno mie\u0107 jak najmniej *niebia\u0142ych* znak\u00f3w. Czy uda si\u0119 w 69? A mo\u017ce da si\u0119 jeszcze mniej?\n",
      " "
     ]
    }
   ],
   "metadata": {}
  }
 ]
}
