{
 "metadata": {
  "name": "",
  "signature": "sha256:9716ad7e9679a9b787f0cdcb8f673365e681c2ea6e22759a6d7681b353da6702"
 },
 "nbformat": 3,
 "nbformat_minor": 0,
 "worksheets": [
  {
   "cells": [
    {
     "cell_type": "heading",
     "level": 1,
     "metadata": {},
     "source": [
      "J\u0119zyk Python - Wyk\u0142ad 1.5"
     ]
    },
    {
     "cell_type": "heading",
     "level": 2,
     "metadata": {},
     "source": [
      "TYPOWANIE"
     ]
    },
    {
     "cell_type": "markdown",
     "metadata": {},
     "source": [
      "Wynik operacji \n",
      "\n",
      "    '3' + 3\n",
      "    \n",
      "w r\u00f3\u017cnych j\u0119zykach"
     ]
    },
    {
     "cell_type": "markdown",
     "metadata": {},
     "source": [
      "Javascript: `'3' + 3 == '33'`"
     ]
    },
    {
     "cell_type": "markdown",
     "metadata": {},
     "source": [
      "PHP: `'3' + 3 == 6`"
     ]
    },
    {
     "cell_type": "markdown",
     "metadata": {},
     "source": [
      "LUA: `'3' + 3 == 6`"
     ]
    },
    {
     "cell_type": "markdown",
     "metadata": {},
     "source": [
      "Ruby: `'3' + 3` **[error]**"
     ]
    },
    {
     "cell_type": "code",
     "collapsed": false,
     "input": [
      "'3' + 3"
     ],
     "language": "python",
     "metadata": {},
     "outputs": []
    },
    {
     "cell_type": "heading",
     "level": 2,
     "metadata": {},
     "source": [
      "AUTOMATYCZNE RZUTOWANIE"
     ]
    },
    {
     "cell_type": "markdown",
     "metadata": {},
     "source": [
      "Any object can be tested for truth value, for use in an if or while condition or as operand of the Boolean operations below. The following values are considered false:\n",
      "* None\n",
      "* False\n",
      "* zero of any numeric type, for example, 0, 0L, 0.0, 0j.\n",
      "* any empty sequence, for example, '', (), [].\n",
      "* any empty mapping, for example, {}.\n",
      "* instances of user-defined classes, if the class defines a \\_\\_nonzero\\_\\_() or \\_\\_len\\_\\_() method, when that method returns the integer zero or bool value False. \n",
      "\n",
      "All other values are considered true \u2014 so objects of many types are always true"
     ]
    },
    {
     "cell_type": "code",
     "collapsed": false,
     "input": [
      "doc_tests = [None, False, 0, 0L, 0., 0j, '', \"\", (), [], {}, list(), dict()]\n",
      "\n",
      "for test in doc_tests:\n",
      "    if test:\n",
      "        print(test, 'evaluates to True')\n",
      "    else:\n",
      "        print(test, 'evaluates to False')"
     ],
     "language": "python",
     "metadata": {},
     "outputs": []
    },
    {
     "cell_type": "code",
     "collapsed": false,
     "input": [
      "class Foo1(object):\n",
      "    \n",
      "    pass\n",
      "\n",
      "class Foo2(object):\n",
      "    \n",
      "    def __nonzero__(self):\n",
      "        return False\n",
      "\n",
      "class Foo3(object):\n",
      "    \n",
      "    def __len__(self):\n",
      "        return 0\n",
      "    \n",
      "class Foo4(object):\n",
      "    \n",
      "    def __nonzero__(self):\n",
      "        return False\n",
      "    \n",
      "    def __len__(self):\n",
      "        return 1\n",
      "    \n",
      "def bar():\n",
      "    pass\n",
      "\n",
      "others = [set([1]), 1, 123, -1, \"ala ma kota\", \"ala\"[0], \"ala\"[:0], Foo1(), Foo2(), Foo3(), Foo4(), str, bar, Foo1]\n",
      "\n",
      "for test in others:\n",
      "    if test:\n",
      "        print(test, 'evaluates to True')\n",
      "    else:\n",
      "        print(test, 'evaluates to False')"
     ],
     "language": "python",
     "metadata": {},
     "outputs": []
    },
    {
     "cell_type": "heading",
     "level": 2,
     "metadata": {},
     "source": [
      "WYSZUKIWANIE STRINGA"
     ]
    },
    {
     "cell_type": "code",
     "collapsed": false,
     "input": [
      "import string\n",
      "import time\n",
      "from math import sqrt\n",
      "import random\n",
      "\n",
      "def random_word(n):\n",
      "    return ''.join(string.lowercase[random.randint(0,25)] for _ in range(n))\n",
      "    \n",
      "def random_bits(n):\n",
      "    return ''.join(str(random.randint(0,1)) for _ in range(n))\n",
      "\n",
      "def test_string_search(n, m=1000, warmstart=100, gen=random_word):\n",
      "    \"\"\"Zwraca czas wykonywania m wyszukiwan losowego slowa dlugosci sqrt(n) w losowym slowie dlugosci n\"\"\"\n",
      "    dummy = 0\n",
      "    for i in range(m+warmstart):\n",
      "\n",
      "        if i == warmstart:\n",
      "            start = time.time() #warm start\n",
      "\n",
      "        haystack = gen(n)\n",
      "        needle = gen(int(sqrt(n)))\n",
      "        \n",
      "        if needle in haystack: #lets hope python does not optimize too much\n",
      "            dummy += 1\n",
      "        \n",
      "    return time.time() - start, dummy\n",
      "\n",
      "for gen in [random_word, random_bits]:\n",
      "\n",
      "    lengths = []\n",
      "    times = []\n",
      "    for length in range(20, 500, 10):\n",
      "        lengths.append(length)\n",
      "        times.append(test_string_search(length, gen=gen)[0])\n",
      "\n",
      "    %matplotlib inline\n",
      "\n",
      "    from matplotlib import pyplot as plt\n",
      "\n",
      "    plt.figure()\n",
      "    plt.title(gen.__name__)\n",
      "    plt.plot(lengths, times, linewidth=5)\n",
      "    plt.show()"
     ],
     "language": "python",
     "metadata": {},
     "outputs": [
      {
       "metadata": {},
       "output_type": "display_data",
       "png": "[encoded data removed]",
       "text": [
        "<matplotlib.figure.Figure at 0x7f71e8852f90>"
       ]
      },
      {
       "metadata": {},
       "output_type": "display_data",
       "png": "[encoded data removed]",
       "text": [
        "<matplotlib.figure.Figure at 0x7f71f804d110>"
       ]
      }
     ],
     "prompt_number": 73
    },
    {
     "cell_type": "raw",
     "metadata": {},
     "source": [
      "1149\tstatic int\n",
      "1150\tstring_contains(PyObject *str_obj, PyObject *sub_obj)\n",
      "1151\t{\n",
      "1152\t    if (!PyString_CheckExact(sub_obj)) {\n",
      "1153\t#ifdef Py_USING_UNICODE\n",
      "1154\t        if (PyUnicode_Check(sub_obj))\n",
      "1155\t            return PyUnicode_Contains(str_obj, sub_obj);\n",
      "1156\t#endif\n",
      "1157\t        if (!PyString_Check(sub_obj)) {\n",
      "1158\t            PyErr_Format(PyExc_TypeError,\n",
      "1159\t                \"'in <string>' requires string as left operand, \"\n",
      "1160\t                \"not %.200s\", Py_TYPE(sub_obj)->tp_name);\n",
      "1161\t            return -1;\n",
      "1162\t        }\n",
      "1163\t    }\n",
      "1164\t\n",
      "1165\t    return stringlib_contains_obj(str_obj, sub_obj);\n",
      "1166\t}"
     ]
    },
    {
     "cell_type": "markdown",
     "metadata": {},
     "source": [
      "Fast search/count implementation, based on a mix between Boyer-Moore and Horspool, with a few more bells and whistles on the top. For some more background, see: http://effbot.org/zone/stringlib.htm.\n",
      "\n",
      "[...]\n",
      "\n",
      "When designing the new algorithm, I used the following constraints:\n",
      "\n",
      "* should be faster than the current brute-force algorithm for all test cases (based on real-life code), including Jim Hugunin\u2019s worst-case test\n",
      "* small setup overhead; no dynamic allocation in the fast path (`O(m)` for speed, `O(1)` for storage)\n",
      "* sublinear search behaviour in good cases (`O(n/m)`)\n",
      "* no worse than the current algorithm in worst case (`O(nm)`)\n",
      "* should work well for both 8-bit strings and 16-bit or 32-bit Unicode strings (no `O(\u03c3)` dependencies)\n",
      "* many real-life searches should be good, very few should be worst case reasonably simple implementation"
     ]
    }
   ],
   "metadata": {}
  }
 ]
}